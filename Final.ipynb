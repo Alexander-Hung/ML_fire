{
 "cells": [
  {
   "cell_type": "markdown",
   "metadata": {
    "application/vnd.databricks.v1+cell": {
     "cellMetadata": {
      "byteLimit": 2048000,
      "rowLimit": 10000
     },
     "inputWidgets": {},
     "nuid": "47960b3e-8b42-4852-bad4-733657617fcd",
     "showTitle": false,
     "title": ""
    }
   },
   "source": [
    "# Machine Learning for Assessing Brush Fire Risk in The United States"
   ]
  },
  {
   "cell_type": "markdown",
   "metadata": {
    "application/vnd.databricks.v1+cell": {
     "cellMetadata": {
      "byteLimit": 2048000,
      "rowLimit": 10000
     },
     "inputWidgets": {},
     "nuid": "2a42c99a-391b-4ed4-84d7-02d0dae2cd4a",
     "showTitle": false,
     "title": ""
    },
    "tags": []
   },
   "source": [
    "## Import required packages"
   ]
  },
  {
   "cell_type": "code",
   "execution_count": 3,
   "metadata": {
    "application/vnd.databricks.v1+cell": {
     "cellMetadata": {
      "byteLimit": 2048000,
      "rowLimit": 10000
     },
     "inputWidgets": {},
     "nuid": "eb744b43-4179-4777-9382-198c0eaf9ad3",
     "showTitle": false,
     "title": ""
    }
   },
   "outputs": [],
   "source": [
    "# !pip install geopandas shapely\n",
    "#%pip install xarray\n",
    "#%pip install zarr\n",
    "#%pip install fsspec\n",
    "#%pip install cartopy\n",
    "#%pip install netCDF4\n",
    "#%pip install scipy\n",
    "#%pip install bottleneck\n",
    "#%pip install gcsfs"
   ]
  },
  {
   "cell_type": "code",
   "execution_count": 40,
   "metadata": {
    "application/vnd.databricks.v1+cell": {
     "cellMetadata": {
      "byteLimit": 2048000,
      "rowLimit": 10000
     },
     "inputWidgets": {},
     "nuid": "c468c924-7407-42bf-b620-fcc2a5fa820e",
     "showTitle": false,
     "title": ""
    },
    "id": "PDXJ1VV5K5ay"
   },
   "outputs": [],
   "source": [
    "#Importing required packages\n",
    "from matplotlib import pyplot as plt\n",
    "import numpy as np\n",
    "import pandas as pd\n",
    "import os\n",
    "import re\n",
    "import csv\n",
    "import xarray as xr\n",
    "import zarr\n",
    "import fsspec\n",
    "import cartopy.crs as ccrs\n",
    "import glob as glob\n",
    "import netCDF4 as nc\n",
    "from netCDF4 import Dataset\n",
    "from scipy.stats import skew,stats\n",
    "import bottleneck\n",
    "import gcsfs\n",
    "import matplotlib.ticker as mticker\n",
    "import warnings\n",
    "from sklearn.model_selection import train_test_split\n",
    "warnings.filterwarnings(\"ignore\") \n",
    "\n",
    "# import geopandas as gpd\n",
    "# from shapely.geometry import Point\n",
    "\n",
    "from sklearn.model_selection import train_test_split\n",
    "from sklearn.ensemble import RandomForestClassifier\n",
    "from sklearn.metrics import precision_score, recall_score, confusion_matrix\n",
    "from sklearn.preprocessing import StandardScaler"
   ]
  },
  {
   "cell_type": "markdown",
   "metadata": {
    "application/vnd.databricks.v1+cell": {
     "cellMetadata": {
      "byteLimit": 2048000,
      "rowLimit": 10000
     },
     "inputWidgets": {},
     "nuid": "4c9a22f4-d14c-436f-9960-d6414d040057",
     "showTitle": false,
     "title": ""
    }
   },
   "source": [
    "## CMIP6 Data"
   ]
  },
  {
   "cell_type": "markdown",
   "metadata": {
    "application/vnd.databricks.v1+cell": {
     "cellMetadata": {
      "byteLimit": 2048000,
      "rowLimit": 10000
     },
     "inputWidgets": {},
     "nuid": "fc894cbc-5dc0-4fc9-9977-e439f9c06dff",
     "showTitle": false,
     "title": ""
    },
    "tags": []
   },
   "source": [
    "#### burntFractionAll"
   ]
  },
  {
   "cell_type": "code",
   "execution_count": 5,
   "metadata": {
    "application/vnd.databricks.v1+cell": {
     "cellMetadata": {
      "byteLimit": 2048000,
      "rowLimit": 10000
     },
     "inputWidgets": {},
     "nuid": "f826263a-f0c0-4739-a166-843508820829",
     "showTitle": false,
     "title": ""
    }
   },
   "outputs": [
    {
     "data": {
      "text/html": [
       "<div>\n",
       "<style scoped>\n",
       "    .dataframe tbody tr th:only-of-type {\n",
       "        vertical-align: middle;\n",
       "    }\n",
       "\n",
       "    .dataframe tbody tr th {\n",
       "        vertical-align: top;\n",
       "    }\n",
       "\n",
       "    .dataframe thead th {\n",
       "        text-align: right;\n",
       "    }\n",
       "</style>\n",
       "<table border=\"1\" class=\"dataframe\">\n",
       "  <thead>\n",
       "    <tr style=\"text-align: right;\">\n",
       "      <th></th>\n",
       "      <th>activity_id</th>\n",
       "      <th>institution_id</th>\n",
       "      <th>source_id</th>\n",
       "      <th>experiment_id</th>\n",
       "      <th>member_id</th>\n",
       "      <th>table_id</th>\n",
       "      <th>variable_id</th>\n",
       "      <th>grid_label</th>\n",
       "      <th>zstore</th>\n",
       "      <th>dcpp_init_year</th>\n",
       "      <th>version</th>\n",
       "    </tr>\n",
       "  </thead>\n",
       "  <tbody>\n",
       "    <tr>\n",
       "      <th>44114</th>\n",
       "      <td>CMIP</td>\n",
       "      <td>CNRM-CERFACS</td>\n",
       "      <td>CNRM-ESM2-1</td>\n",
       "      <td>historical</td>\n",
       "      <td>r1i1p1f2</td>\n",
       "      <td>Lmon</td>\n",
       "      <td>burntFractionAll</td>\n",
       "      <td>gr</td>\n",
       "      <td>gs://cmip6/CMIP6/CMIP/CNRM-CERFACS/CNRM-ESM2-1...</td>\n",
       "      <td>NaN</td>\n",
       "      <td>20181206</td>\n",
       "    </tr>\n",
       "  </tbody>\n",
       "</table>\n",
       "</div>"
      ],
      "text/plain": [
       "      activity_id institution_id    source_id experiment_id member_id  \\\n",
       "44114        CMIP   CNRM-CERFACS  CNRM-ESM2-1    historical  r1i1p1f2   \n",
       "\n",
       "      table_id       variable_id grid_label  \\\n",
       "44114     Lmon  burntFractionAll         gr   \n",
       "\n",
       "                                                  zstore  dcpp_init_year  \\\n",
       "44114  gs://cmip6/CMIP6/CMIP/CNRM-CERFACS/CNRM-ESM2-1...             NaN   \n",
       "\n",
       "        version  \n",
       "44114  20181206  "
      ]
     },
     "execution_count": 5,
     "metadata": {},
     "output_type": "execute_result"
    }
   ],
   "source": [
    "#Loading CMIP6 data stored on google cloud\n",
    "df = pd.read_csv('https://storage.googleapis.com/cmip6/cmip6-zarr-consolidated-stores.csv')\n",
    "\n",
    "#subselect for surface temparature and the two experiments:\n",
    "# df_pr = df.query(\"activity_id=='HighResMIP' & (variable_id == 'pr' ) & (experiment_id == 'highresSST-present'|experiment_id == 'highresSST-future') & source_id=='MRI-AGCM3-2-S' & table_id == 'Amon'\")\n",
    "\n",
    "\n",
    "df_burntFractionAll = df.query(\"variable_id == 'burntFractionAll'  & source_id == 'CNRM-ESM2-1' & member_id == 'r1i1p1f2' & experiment_id == 'historical' & table_id == 'Lmon'\")\n",
    "\n",
    "df_burntFractionAll"
   ]
  },
  {
   "cell_type": "code",
   "execution_count": 6,
   "metadata": {
    "application/vnd.databricks.v1+cell": {
     "cellMetadata": {
      "byteLimit": 2048000,
      "rowLimit": 10000
     },
     "inputWidgets": {},
     "nuid": "9e1a3368-b4bb-42b1-bc23-1ee63e0dda93",
     "showTitle": false,
     "title": ""
    }
   },
   "outputs": [],
   "source": [
    "burntFractionAll_store_present = df_burntFractionAll.zstore.values[0]\n",
    "mapper = fsspec.get_mapper(burntFractionAll_store_present)\n",
    "burntFractionAll_present = xr.open_zarr(mapper, consolidated=True)\n",
    "\n",
    "#burntFractionAll_present"
   ]
  },
  {
   "cell_type": "code",
   "execution_count": 7,
   "metadata": {},
   "outputs": [
    {
     "data": {
      "text/plain": [
       "'gs://cmip6/CMIP6/CMIP/CNRM-CERFACS/CNRM-ESM2-1/historical/r1i1p1f2/Lmon/burntFractionAll/gr/v20181206/'"
      ]
     },
     "execution_count": 7,
     "metadata": {},
     "output_type": "execute_result"
    }
   ],
   "source": [
    "burntFractionAll_store_present"
   ]
  },
  {
   "cell_type": "code",
   "execution_count": 8,
   "metadata": {
    "application/vnd.databricks.v1+cell": {
     "cellMetadata": {
      "byteLimit": 2048000,
      "rowLimit": 10000
     },
     "inputWidgets": {},
     "nuid": "96615c5e-7802-47b3-a3c1-8ef578b312ba",
     "showTitle": false,
     "title": ""
    }
   },
   "outputs": [
    {
     "name": "stdout",
     "output_type": "stream",
     "text": [
      "Minimum burntFractionAll: 0.0\n",
      "Maximum burntFractionAll: 1.2239598035812378\n"
     ]
    }
   ],
   "source": [
    "min_value = burntFractionAll_present['burntFractionAll'].min()\n",
    "max_value = burntFractionAll_present['burntFractionAll'].max()\n",
    "\n",
    "print(f\"Minimum burntFractionAll: {min_value.values}\")\n",
    "print(f\"Maximum burntFractionAll: {max_value.values}\")"
   ]
  },
  {
   "cell_type": "code",
   "execution_count": 62,
   "metadata": {},
   "outputs": [
    {
     "data": {
      "text/html": [
       "<div>\n",
       "<style scoped>\n",
       "    .dataframe tbody tr th:only-of-type {\n",
       "        vertical-align: middle;\n",
       "    }\n",
       "\n",
       "    .dataframe tbody tr th {\n",
       "        vertical-align: top;\n",
       "    }\n",
       "\n",
       "    .dataframe thead th {\n",
       "        text-align: right;\n",
       "    }\n",
       "</style>\n",
       "<table border=\"1\" class=\"dataframe\">\n",
       "  <thead>\n",
       "    <tr style=\"text-align: right;\">\n",
       "      <th></th>\n",
       "      <th></th>\n",
       "      <th></th>\n",
       "      <th>fire_label</th>\n",
       "    </tr>\n",
       "    <tr>\n",
       "      <th>time</th>\n",
       "      <th>lat</th>\n",
       "      <th>lon</th>\n",
       "      <th></th>\n",
       "    </tr>\n",
       "  </thead>\n",
       "  <tbody>\n",
       "    <tr>\n",
       "      <th rowspan=\"5\" valign=\"top\">1940-01-16 12:00:00</th>\n",
       "      <th rowspan=\"5\" valign=\"top\">-88.927735</th>\n",
       "      <th>0.00000</th>\n",
       "      <td>0</td>\n",
       "    </tr>\n",
       "    <tr>\n",
       "      <th>1.40625</th>\n",
       "      <td>0</td>\n",
       "    </tr>\n",
       "    <tr>\n",
       "      <th>2.81250</th>\n",
       "      <td>0</td>\n",
       "    </tr>\n",
       "    <tr>\n",
       "      <th>4.21875</th>\n",
       "      <td>0</td>\n",
       "    </tr>\n",
       "    <tr>\n",
       "      <th>5.62500</th>\n",
       "      <td>0</td>\n",
       "    </tr>\n",
       "    <tr>\n",
       "      <th>...</th>\n",
       "      <th>...</th>\n",
       "      <th>...</th>\n",
       "      <td>...</td>\n",
       "    </tr>\n",
       "    <tr>\n",
       "      <th rowspan=\"5\" valign=\"top\">1940-02-15 12:00:00</th>\n",
       "      <th rowspan=\"5\" valign=\"top\">88.927735</th>\n",
       "      <th>352.96875</th>\n",
       "      <td>0</td>\n",
       "    </tr>\n",
       "    <tr>\n",
       "      <th>354.37500</th>\n",
       "      <td>0</td>\n",
       "    </tr>\n",
       "    <tr>\n",
       "      <th>355.78125</th>\n",
       "      <td>0</td>\n",
       "    </tr>\n",
       "    <tr>\n",
       "      <th>357.18750</th>\n",
       "      <td>0</td>\n",
       "    </tr>\n",
       "    <tr>\n",
       "      <th>358.59375</th>\n",
       "      <td>0</td>\n",
       "    </tr>\n",
       "  </tbody>\n",
       "</table>\n",
       "<p>65536 rows × 1 columns</p>\n",
       "</div>"
      ],
      "text/plain": [
       "                                          fire_label\n",
       "time                lat        lon                  \n",
       "1940-01-16 12:00:00 -88.927735 0.00000             0\n",
       "                               1.40625             0\n",
       "                               2.81250             0\n",
       "                               4.21875             0\n",
       "                               5.62500             0\n",
       "...                                              ...\n",
       "1940-02-15 12:00:00  88.927735 352.96875           0\n",
       "                               354.37500           0\n",
       "                               355.78125           0\n",
       "                               357.18750           0\n",
       "                               358.59375           0\n",
       "\n",
       "[65536 rows x 1 columns]"
      ]
     },
     "execution_count": 62,
     "metadata": {},
     "output_type": "execute_result"
    }
   ],
   "source": [
    "'''\n",
    "# Define a threshold for burnt fraction to classify as fire\n",
    "fire_threshold = 0.1\n",
    "\n",
    "burntFractionAll_present['fire_label'] = (burntFractionAll_present['burntFractionAll'] > fire_threshold).astype(int)\n",
    "bfa_combined = burntFractionAll_present.sel(time=slice('1940-01-16T12:00:00' , '1940-2-16T12:00:00'))\n",
    "bfa_df = bfa_combined['fire_label'].to_dataframe()\n",
    "bfa_df = bfa_df.drop(columns='type')\n",
    "bfa_df\n",
    "'''"
   ]
  },
  {
   "cell_type": "code",
   "execution_count": 103,
   "metadata": {
    "application/vnd.databricks.v1+cell": {
     "cellMetadata": {
      "byteLimit": 2048000,
      "rowLimit": 10000
     },
     "inputWidgets": {},
     "nuid": "edac8a34-eb28-4bda-8411-574b90e87347",
     "showTitle": false,
     "title": ""
    }
   },
   "outputs": [
    {
     "name": "stdout",
     "output_type": "stream",
     "text": [
      "burntFractionAll\n",
      "0.000000            9432\n",
      "0.000274             512\n",
      "0.000164             182\n",
      "0.000027              60\n",
      "0.000274              26\n",
      "                    ... \n",
      "0.000291               1\n",
      "0.000291               1\n",
      "0.000291               1\n",
      "0.000290               1\n",
      "0.754695               1\n",
      "Length: 12548, dtype: int64\n"
     ]
    }
   ],
   "source": [
    "\n",
    "bfa_combined = burntFractionAll_present.sel(time=slice('1940-01-16T12:00:00' , '1940-2-16T12:00:00'))\n",
    "bfa_df = bfa_combined.burntFractionAll.to_dataframe()\n",
    "bfa_df = bfa_df.drop(columns='type')\n",
    "#bfa_df\n",
    "label_counts = bfa_df.value_counts()\n",
    "\n",
    "# Display the value counts\n",
    "print(label_counts)\n"
   ]
  },
  {
   "cell_type": "code",
   "execution_count": 102,
   "metadata": {
    "application/vnd.databricks.v1+cell": {
     "cellMetadata": {
      "byteLimit": 2048000,
      "rowLimit": 10000
     },
     "inputWidgets": {},
     "nuid": "113a058f-ca18-41d2-8c44-fd6c93786c93",
     "showTitle": false,
     "title": ""
    }
   },
   "outputs": [
    {
     "ename": "KeyError",
     "evalue": "'fire_label'",
     "output_type": "error",
     "traceback": [
      "\u001b[0;31m---------------------------------------------------------------------------\u001b[0m",
      "\u001b[0;31mKeyError\u001b[0m                                  Traceback (most recent call last)",
      "File \u001b[0;32m/mnt/lustre/koa/class/atmo449_class/.envs/ATMO_449/lib/python3.9/site-packages/pandas/core/indexes/base.py:3802\u001b[0m, in \u001b[0;36mIndex.get_loc\u001b[0;34m(self, key, method, tolerance)\u001b[0m\n\u001b[1;32m   3801\u001b[0m \u001b[38;5;28;01mtry\u001b[39;00m:\n\u001b[0;32m-> 3802\u001b[0m     \u001b[38;5;28;01mreturn\u001b[39;00m \u001b[38;5;28;43mself\u001b[39;49m\u001b[38;5;241;43m.\u001b[39;49m\u001b[43m_engine\u001b[49m\u001b[38;5;241;43m.\u001b[39;49m\u001b[43mget_loc\u001b[49m\u001b[43m(\u001b[49m\u001b[43mcasted_key\u001b[49m\u001b[43m)\u001b[49m\n\u001b[1;32m   3803\u001b[0m \u001b[38;5;28;01mexcept\u001b[39;00m \u001b[38;5;167;01mKeyError\u001b[39;00m \u001b[38;5;28;01mas\u001b[39;00m err:\n",
      "File \u001b[0;32m/mnt/lustre/koa/class/atmo449_class/.envs/ATMO_449/lib/python3.9/site-packages/pandas/_libs/index.pyx:138\u001b[0m, in \u001b[0;36mpandas._libs.index.IndexEngine.get_loc\u001b[0;34m()\u001b[0m\n",
      "File \u001b[0;32m/mnt/lustre/koa/class/atmo449_class/.envs/ATMO_449/lib/python3.9/site-packages/pandas/_libs/index.pyx:165\u001b[0m, in \u001b[0;36mpandas._libs.index.IndexEngine.get_loc\u001b[0;34m()\u001b[0m\n",
      "File \u001b[0;32mpandas/_libs/hashtable_class_helper.pxi:5745\u001b[0m, in \u001b[0;36mpandas._libs.hashtable.PyObjectHashTable.get_item\u001b[0;34m()\u001b[0m\n",
      "File \u001b[0;32mpandas/_libs/hashtable_class_helper.pxi:5753\u001b[0m, in \u001b[0;36mpandas._libs.hashtable.PyObjectHashTable.get_item\u001b[0;34m()\u001b[0m\n",
      "\u001b[0;31mKeyError\u001b[0m: 'fire_label'",
      "\nThe above exception was the direct cause of the following exception:\n",
      "\u001b[0;31mKeyError\u001b[0m                                  Traceback (most recent call last)",
      "Cell \u001b[0;32mIn[102], line 2\u001b[0m\n\u001b[1;32m      1\u001b[0m \u001b[38;5;66;03m# Use value_counts on the DataFrame\u001b[39;00m\n\u001b[0;32m----> 2\u001b[0m label_counts \u001b[38;5;241m=\u001b[39m \u001b[43mbfa_df\u001b[49m\u001b[43m[\u001b[49m\u001b[38;5;124;43m'\u001b[39;49m\u001b[38;5;124;43mfire_label\u001b[39;49m\u001b[38;5;124;43m'\u001b[39;49m\u001b[43m]\u001b[49m\u001b[38;5;241m.\u001b[39mvalue_counts()\n\u001b[1;32m      4\u001b[0m \u001b[38;5;66;03m# Display the value counts\u001b[39;00m\n\u001b[1;32m      5\u001b[0m \u001b[38;5;28mprint\u001b[39m(label_counts)\n",
      "File \u001b[0;32m/mnt/lustre/koa/class/atmo449_class/.envs/ATMO_449/lib/python3.9/site-packages/pandas/core/frame.py:3807\u001b[0m, in \u001b[0;36mDataFrame.__getitem__\u001b[0;34m(self, key)\u001b[0m\n\u001b[1;32m   3805\u001b[0m \u001b[38;5;28;01mif\u001b[39;00m \u001b[38;5;28mself\u001b[39m\u001b[38;5;241m.\u001b[39mcolumns\u001b[38;5;241m.\u001b[39mnlevels \u001b[38;5;241m>\u001b[39m \u001b[38;5;241m1\u001b[39m:\n\u001b[1;32m   3806\u001b[0m     \u001b[38;5;28;01mreturn\u001b[39;00m \u001b[38;5;28mself\u001b[39m\u001b[38;5;241m.\u001b[39m_getitem_multilevel(key)\n\u001b[0;32m-> 3807\u001b[0m indexer \u001b[38;5;241m=\u001b[39m \u001b[38;5;28;43mself\u001b[39;49m\u001b[38;5;241;43m.\u001b[39;49m\u001b[43mcolumns\u001b[49m\u001b[38;5;241;43m.\u001b[39;49m\u001b[43mget_loc\u001b[49m\u001b[43m(\u001b[49m\u001b[43mkey\u001b[49m\u001b[43m)\u001b[49m\n\u001b[1;32m   3808\u001b[0m \u001b[38;5;28;01mif\u001b[39;00m is_integer(indexer):\n\u001b[1;32m   3809\u001b[0m     indexer \u001b[38;5;241m=\u001b[39m [indexer]\n",
      "File \u001b[0;32m/mnt/lustre/koa/class/atmo449_class/.envs/ATMO_449/lib/python3.9/site-packages/pandas/core/indexes/base.py:3804\u001b[0m, in \u001b[0;36mIndex.get_loc\u001b[0;34m(self, key, method, tolerance)\u001b[0m\n\u001b[1;32m   3802\u001b[0m     \u001b[38;5;28;01mreturn\u001b[39;00m \u001b[38;5;28mself\u001b[39m\u001b[38;5;241m.\u001b[39m_engine\u001b[38;5;241m.\u001b[39mget_loc(casted_key)\n\u001b[1;32m   3803\u001b[0m \u001b[38;5;28;01mexcept\u001b[39;00m \u001b[38;5;167;01mKeyError\u001b[39;00m \u001b[38;5;28;01mas\u001b[39;00m err:\n\u001b[0;32m-> 3804\u001b[0m     \u001b[38;5;28;01mraise\u001b[39;00m \u001b[38;5;167;01mKeyError\u001b[39;00m(key) \u001b[38;5;28;01mfrom\u001b[39;00m \u001b[38;5;21;01merr\u001b[39;00m\n\u001b[1;32m   3805\u001b[0m \u001b[38;5;28;01mexcept\u001b[39;00m \u001b[38;5;167;01mTypeError\u001b[39;00m:\n\u001b[1;32m   3806\u001b[0m     \u001b[38;5;66;03m# If we have a listlike key, _check_indexing_error will raise\u001b[39;00m\n\u001b[1;32m   3807\u001b[0m     \u001b[38;5;66;03m#  InvalidIndexError. Otherwise we fall through and re-raise\u001b[39;00m\n\u001b[1;32m   3808\u001b[0m     \u001b[38;5;66;03m#  the TypeError.\u001b[39;00m\n\u001b[1;32m   3809\u001b[0m     \u001b[38;5;28mself\u001b[39m\u001b[38;5;241m.\u001b[39m_check_indexing_error(key)\n",
      "\u001b[0;31mKeyError\u001b[0m: 'fire_label'"
     ]
    }
   ],
   "source": [
    "\n",
    "# Use value_counts on the DataFrame\n",
    "label_counts = bfa_df['fire_label'].value_counts()\n",
    "\n",
    "# Display the value counts\n",
    "print(label_counts)"
   ]
  },
  {
   "cell_type": "markdown",
   "metadata": {
    "application/vnd.databricks.v1+cell": {
     "cellMetadata": {
      "byteLimit": 2048000,
      "rowLimit": 10000
     },
     "inputWidgets": {},
     "nuid": "a33c4a47-2f23-482f-a38c-ccef358febe8",
     "showTitle": false,
     "title": ""
    },
    "tags": []
   },
   "source": [
    "#### pr"
   ]
  },
  {
   "cell_type": "code",
   "execution_count": 93,
   "metadata": {
    "application/vnd.databricks.v1+cell": {
     "cellMetadata": {
      "byteLimit": 2048000,
      "rowLimit": 10000
     },
     "inputWidgets": {},
     "nuid": "c72747cc-b5a8-47e3-b77c-bd579a5e4b0a",
     "showTitle": false,
     "title": ""
    }
   },
   "outputs": [
    {
     "data": {
      "text/html": [
       "<div>\n",
       "<style scoped>\n",
       "    .dataframe tbody tr th:only-of-type {\n",
       "        vertical-align: middle;\n",
       "    }\n",
       "\n",
       "    .dataframe tbody tr th {\n",
       "        vertical-align: top;\n",
       "    }\n",
       "\n",
       "    .dataframe thead th {\n",
       "        text-align: right;\n",
       "    }\n",
       "</style>\n",
       "<table border=\"1\" class=\"dataframe\">\n",
       "  <thead>\n",
       "    <tr style=\"text-align: right;\">\n",
       "      <th></th>\n",
       "      <th></th>\n",
       "      <th></th>\n",
       "      <th>pr</th>\n",
       "    </tr>\n",
       "    <tr>\n",
       "      <th>time</th>\n",
       "      <th>lat</th>\n",
       "      <th>lon</th>\n",
       "      <th></th>\n",
       "    </tr>\n",
       "  </thead>\n",
       "  <tbody>\n",
       "    <tr>\n",
       "      <th rowspan=\"5\" valign=\"top\">1940-01-16 12:00:00</th>\n",
       "      <th rowspan=\"5\" valign=\"top\">-88.927735</th>\n",
       "      <th>0.00000</th>\n",
       "      <td>4.780071e-07</td>\n",
       "    </tr>\n",
       "    <tr>\n",
       "      <th>1.40625</th>\n",
       "      <td>4.780071e-07</td>\n",
       "    </tr>\n",
       "    <tr>\n",
       "      <th>2.81250</th>\n",
       "      <td>4.780071e-07</td>\n",
       "    </tr>\n",
       "    <tr>\n",
       "      <th>4.21875</th>\n",
       "      <td>4.780071e-07</td>\n",
       "    </tr>\n",
       "    <tr>\n",
       "      <th>5.62500</th>\n",
       "      <td>4.780071e-07</td>\n",
       "    </tr>\n",
       "    <tr>\n",
       "      <th>...</th>\n",
       "      <th>...</th>\n",
       "      <th>...</th>\n",
       "      <td>...</td>\n",
       "    </tr>\n",
       "    <tr>\n",
       "      <th rowspan=\"5\" valign=\"top\">1940-02-15 12:00:00</th>\n",
       "      <th rowspan=\"5\" valign=\"top\">88.927735</th>\n",
       "      <th>352.96875</th>\n",
       "      <td>1.903327e-06</td>\n",
       "    </tr>\n",
       "    <tr>\n",
       "      <th>354.37500</th>\n",
       "      <td>1.903327e-06</td>\n",
       "    </tr>\n",
       "    <tr>\n",
       "      <th>355.78125</th>\n",
       "      <td>1.903327e-06</td>\n",
       "    </tr>\n",
       "    <tr>\n",
       "      <th>357.18750</th>\n",
       "      <td>1.903327e-06</td>\n",
       "    </tr>\n",
       "    <tr>\n",
       "      <th>358.59375</th>\n",
       "      <td>1.903327e-06</td>\n",
       "    </tr>\n",
       "  </tbody>\n",
       "</table>\n",
       "<p>65536 rows × 1 columns</p>\n",
       "</div>"
      ],
      "text/plain": [
       "                                                    pr\n",
       "time                lat        lon                    \n",
       "1940-01-16 12:00:00 -88.927735 0.00000    4.780071e-07\n",
       "                               1.40625    4.780071e-07\n",
       "                               2.81250    4.780071e-07\n",
       "                               4.21875    4.780071e-07\n",
       "                               5.62500    4.780071e-07\n",
       "...                                                ...\n",
       "1940-02-15 12:00:00  88.927735 352.96875  1.903327e-06\n",
       "                               354.37500  1.903327e-06\n",
       "                               355.78125  1.903327e-06\n",
       "                               357.18750  1.903327e-06\n",
       "                               358.59375  1.903327e-06\n",
       "\n",
       "[65536 rows x 1 columns]"
      ]
     },
     "execution_count": 93,
     "metadata": {},
     "output_type": "execute_result"
    }
   ],
   "source": [
    "df_pr = df.query(\"variable_id == 'pr' & source_id == 'CNRM-ESM2-1' & member_id == 'r1i1p1f2' & experiment_id == 'historical' & table_id == 'Amon'\")\n",
    "\n",
    "pr_store_present = df_pr.zstore.values[0]\n",
    "\n",
    "#pr_store_future = df_pr.zstore.values[1]\n",
    "mapper = fsspec.get_mapper(pr_store_present)\n",
    "pr_present = xr.open_zarr(mapper, consolidated=True)\n",
    "#pr_present_split = pr_present.sel(time=slice('2012-01-16T12:00:00' , '2014-12-16T12:00:00'))\n",
    "\n",
    "#pr_combined = xr.concat([pr_present_split, pr_future_split], dim='time')\n",
    "pr_combined = pr_present.pr.sel(time=slice('1940-01-16T12:00:00' , '1940-2-16T12:00:00'))\n",
    "pr_df = pr_combined.to_dataframe()\n",
    "pr_df"
   ]
  },
  {
   "cell_type": "markdown",
   "metadata": {
    "application/vnd.databricks.v1+cell": {
     "cellMetadata": {
      "byteLimit": 2048000,
      "rowLimit": 10000
     },
     "inputWidgets": {},
     "nuid": "2f327144-ebc0-40ff-92a9-7406f5fce1cd",
     "showTitle": false,
     "title": ""
    },
    "tags": []
   },
   "source": [
    "#### sfcWind"
   ]
  },
  {
   "cell_type": "code",
   "execution_count": 33,
   "metadata": {
    "application/vnd.databricks.v1+cell": {
     "cellMetadata": {
      "byteLimit": 2048000,
      "rowLimit": 10000
     },
     "inputWidgets": {},
     "nuid": "8e2a4fe5-3f5c-453f-b00c-7731b21f27d0",
     "showTitle": false,
     "title": ""
    }
   },
   "outputs": [
    {
     "data": {
      "text/html": [
       "<div>\n",
       "<style scoped>\n",
       "    .dataframe tbody tr th:only-of-type {\n",
       "        vertical-align: middle;\n",
       "    }\n",
       "\n",
       "    .dataframe tbody tr th {\n",
       "        vertical-align: top;\n",
       "    }\n",
       "\n",
       "    .dataframe thead th {\n",
       "        text-align: right;\n",
       "    }\n",
       "</style>\n",
       "<table border=\"1\" class=\"dataframe\">\n",
       "  <thead>\n",
       "    <tr style=\"text-align: right;\">\n",
       "      <th></th>\n",
       "      <th></th>\n",
       "      <th></th>\n",
       "      <th>sfcWind</th>\n",
       "    </tr>\n",
       "    <tr>\n",
       "      <th>time</th>\n",
       "      <th>lat</th>\n",
       "      <th>lon</th>\n",
       "      <th></th>\n",
       "    </tr>\n",
       "  </thead>\n",
       "  <tbody>\n",
       "    <tr>\n",
       "      <th rowspan=\"5\" valign=\"top\">1940-01-16 12:00:00</th>\n",
       "      <th rowspan=\"5\" valign=\"top\">-88.927735</th>\n",
       "      <th>0.00000</th>\n",
       "      <td>2.963656</td>\n",
       "    </tr>\n",
       "    <tr>\n",
       "      <th>1.40625</th>\n",
       "      <td>2.963656</td>\n",
       "    </tr>\n",
       "    <tr>\n",
       "      <th>2.81250</th>\n",
       "      <td>2.963656</td>\n",
       "    </tr>\n",
       "    <tr>\n",
       "      <th>4.21875</th>\n",
       "      <td>2.963656</td>\n",
       "    </tr>\n",
       "    <tr>\n",
       "      <th>5.62500</th>\n",
       "      <td>2.963656</td>\n",
       "    </tr>\n",
       "    <tr>\n",
       "      <th>...</th>\n",
       "      <th>...</th>\n",
       "      <th>...</th>\n",
       "      <td>...</td>\n",
       "    </tr>\n",
       "    <tr>\n",
       "      <th rowspan=\"5\" valign=\"top\">1940-02-15 12:00:00</th>\n",
       "      <th rowspan=\"5\" valign=\"top\">88.927735</th>\n",
       "      <th>352.96875</th>\n",
       "      <td>6.793680</td>\n",
       "    </tr>\n",
       "    <tr>\n",
       "      <th>354.37500</th>\n",
       "      <td>6.793680</td>\n",
       "    </tr>\n",
       "    <tr>\n",
       "      <th>355.78125</th>\n",
       "      <td>6.793680</td>\n",
       "    </tr>\n",
       "    <tr>\n",
       "      <th>357.18750</th>\n",
       "      <td>6.793680</td>\n",
       "    </tr>\n",
       "    <tr>\n",
       "      <th>358.59375</th>\n",
       "      <td>6.793680</td>\n",
       "    </tr>\n",
       "  </tbody>\n",
       "</table>\n",
       "<p>65536 rows × 1 columns</p>\n",
       "</div>"
      ],
      "text/plain": [
       "                                           sfcWind\n",
       "time                lat        lon                \n",
       "1940-01-16 12:00:00 -88.927735 0.00000    2.963656\n",
       "                               1.40625    2.963656\n",
       "                               2.81250    2.963656\n",
       "                               4.21875    2.963656\n",
       "                               5.62500    2.963656\n",
       "...                                            ...\n",
       "1940-02-15 12:00:00  88.927735 352.96875  6.793680\n",
       "                               354.37500  6.793680\n",
       "                               355.78125  6.793680\n",
       "                               357.18750  6.793680\n",
       "                               358.59375  6.793680\n",
       "\n",
       "[65536 rows x 1 columns]"
      ]
     },
     "execution_count": 33,
     "metadata": {},
     "output_type": "execute_result"
    }
   ],
   "source": [
    "df_sfcWind = df.query(\"variable_id == 'sfcWind' & source_id == 'CNRM-ESM2-1' & member_id == 'r1i1p1f2' & experiment_id == 'historical' & table_id == 'Amon'\")\n",
    "\n",
    "sfcWind_store_present = df_sfcWind.zstore.values[0]\n",
    "mapper = fsspec.get_mapper(sfcWind_store_present)\n",
    "sfcWind_present = xr.open_zarr(mapper, consolidated=True)\n",
    "\n",
    "#sfcWind_present_split = sfcWind_present.sel(time=slice('2012-01-16T12:00:00' , '2014-12-16T12:00:00'))\n",
    "#sfcWind_present_split\n",
    "\n",
    "#sfcWind_combined = xr.concat([sfcWind_present_split, sfcWind_future_split], dim='time')\n",
    "sfcWind_combined = sfcWind_present.sfcWind.sel(time=slice('1940-01-16T12:00:00' , '1940-2-16T12:00:00'))\n",
    "sfcWind_df = sfcWind_combined.to_dataframe()\n",
    "sfcWind_df = sfcWind_df.drop(columns='height')\n",
    "sfcWind_df"
   ]
  },
  {
   "cell_type": "markdown",
   "metadata": {
    "application/vnd.databricks.v1+cell": {
     "cellMetadata": {
      "byteLimit": 2048000,
      "rowLimit": 10000
     },
     "inputWidgets": {},
     "nuid": "aa5f29b5-b3bf-4c56-b890-e3f48fdcd575",
     "showTitle": false,
     "title": ""
    },
    "tags": []
   },
   "source": [
    "#### hur"
   ]
  },
  {
   "cell_type": "code",
   "execution_count": 77,
   "metadata": {
    "application/vnd.databricks.v1+cell": {
     "cellMetadata": {
      "byteLimit": 2048000,
      "rowLimit": 10000
     },
     "inputWidgets": {},
     "nuid": "deb2685f-111f-4fd8-a45b-d723444ff183",
     "showTitle": false,
     "title": ""
    }
   },
   "outputs": [
    {
     "data": {
      "text/html": [
       "<div>\n",
       "<style scoped>\n",
       "    .dataframe tbody tr th:only-of-type {\n",
       "        vertical-align: middle;\n",
       "    }\n",
       "\n",
       "    .dataframe tbody tr th {\n",
       "        vertical-align: top;\n",
       "    }\n",
       "\n",
       "    .dataframe thead th {\n",
       "        text-align: right;\n",
       "    }\n",
       "</style>\n",
       "<table border=\"1\" class=\"dataframe\">\n",
       "  <thead>\n",
       "    <tr style=\"text-align: right;\">\n",
       "      <th></th>\n",
       "      <th></th>\n",
       "      <th></th>\n",
       "      <th>hurs</th>\n",
       "    </tr>\n",
       "    <tr>\n",
       "      <th>time</th>\n",
       "      <th>lat</th>\n",
       "      <th>lon</th>\n",
       "      <th></th>\n",
       "    </tr>\n",
       "  </thead>\n",
       "  <tbody>\n",
       "    <tr>\n",
       "      <th rowspan=\"5\" valign=\"top\">1940-01-16 12:00:00</th>\n",
       "      <th rowspan=\"5\" valign=\"top\">-88.927735</th>\n",
       "      <th>0.00000</th>\n",
       "      <td>94.292168</td>\n",
       "    </tr>\n",
       "    <tr>\n",
       "      <th>1.40625</th>\n",
       "      <td>94.292168</td>\n",
       "    </tr>\n",
       "    <tr>\n",
       "      <th>2.81250</th>\n",
       "      <td>94.292168</td>\n",
       "    </tr>\n",
       "    <tr>\n",
       "      <th>4.21875</th>\n",
       "      <td>94.292168</td>\n",
       "    </tr>\n",
       "    <tr>\n",
       "      <th>5.62500</th>\n",
       "      <td>94.292168</td>\n",
       "    </tr>\n",
       "    <tr>\n",
       "      <th>...</th>\n",
       "      <th>...</th>\n",
       "      <th>...</th>\n",
       "      <td>...</td>\n",
       "    </tr>\n",
       "    <tr>\n",
       "      <th rowspan=\"5\" valign=\"top\">1940-02-15 12:00:00</th>\n",
       "      <th rowspan=\"5\" valign=\"top\">88.927735</th>\n",
       "      <th>352.96875</th>\n",
       "      <td>74.388908</td>\n",
       "    </tr>\n",
       "    <tr>\n",
       "      <th>354.37500</th>\n",
       "      <td>74.388908</td>\n",
       "    </tr>\n",
       "    <tr>\n",
       "      <th>355.78125</th>\n",
       "      <td>74.388908</td>\n",
       "    </tr>\n",
       "    <tr>\n",
       "      <th>357.18750</th>\n",
       "      <td>74.388908</td>\n",
       "    </tr>\n",
       "    <tr>\n",
       "      <th>358.59375</th>\n",
       "      <td>74.388908</td>\n",
       "    </tr>\n",
       "  </tbody>\n",
       "</table>\n",
       "<p>65536 rows × 1 columns</p>\n",
       "</div>"
      ],
      "text/plain": [
       "                                               hurs\n",
       "time                lat        lon                 \n",
       "1940-01-16 12:00:00 -88.927735 0.00000    94.292168\n",
       "                               1.40625    94.292168\n",
       "                               2.81250    94.292168\n",
       "                               4.21875    94.292168\n",
       "                               5.62500    94.292168\n",
       "...                                             ...\n",
       "1940-02-15 12:00:00  88.927735 352.96875  74.388908\n",
       "                               354.37500  74.388908\n",
       "                               355.78125  74.388908\n",
       "                               357.18750  74.388908\n",
       "                               358.59375  74.388908\n",
       "\n",
       "[65536 rows x 1 columns]"
      ]
     },
     "execution_count": 77,
     "metadata": {},
     "output_type": "execute_result"
    }
   ],
   "source": [
    "df_hurs = df.query(\"variable_id == 'hurs' & source_id == 'CNRM-ESM2-1' & member_id == 'r1i1p1f2' & experiment_id == 'historical' & table_id == 'Amon'\")\n",
    "\n",
    "hurs_store_present = df_hurs.zstore.values[0]\n",
    "mapper = fsspec.get_mapper(hurs_store_present)\n",
    "hurs_present = xr.open_zarr(mapper, consolidated=True)\n",
    "\n",
    "hurs_combined = hurs_present.hurs.sel(time=slice('1940-01-16T12:00:00' , '1940-2-16T12:00:00'))\n",
    "\n",
    "hurs_df = hurs_combined.to_dataframe()\n",
    "hurs_df = hurs_df.drop(columns='height')\n",
    "hurs_df"
   ]
  },
  {
   "cell_type": "code",
   "execution_count": null,
   "metadata": {},
   "outputs": [],
   "source": []
  },
  {
   "cell_type": "markdown",
   "metadata": {
    "application/vnd.databricks.v1+cell": {
     "cellMetadata": {
      "byteLimit": 2048000,
      "rowLimit": 10000
     },
     "inputWidgets": {},
     "nuid": "dd0eae91-879d-49df-a0b8-68fe7619dcc9",
     "showTitle": false,
     "title": ""
    },
    "tags": []
   },
   "source": [
    "#### ta"
   ]
  },
  {
   "cell_type": "code",
   "execution_count": 14,
   "metadata": {
    "application/vnd.databricks.v1+cell": {
     "cellMetadata": {
      "byteLimit": 2048000,
      "rowLimit": 10000
     },
     "inputWidgets": {},
     "nuid": "2c8ff9b6-0b84-436c-92af-9eb1493040bd",
     "showTitle": false,
     "title": ""
    }
   },
   "outputs": [
    {
     "data": {
      "text/html": [
       "<div>\n",
       "<style scoped>\n",
       "    .dataframe tbody tr th:only-of-type {\n",
       "        vertical-align: middle;\n",
       "    }\n",
       "\n",
       "    .dataframe tbody tr th {\n",
       "        vertical-align: top;\n",
       "    }\n",
       "\n",
       "    .dataframe thead th {\n",
       "        text-align: right;\n",
       "    }\n",
       "</style>\n",
       "<table border=\"1\" class=\"dataframe\">\n",
       "  <thead>\n",
       "    <tr style=\"text-align: right;\">\n",
       "      <th></th>\n",
       "      <th></th>\n",
       "      <th></th>\n",
       "      <th>height</th>\n",
       "      <th>tas</th>\n",
       "    </tr>\n",
       "    <tr>\n",
       "      <th>time</th>\n",
       "      <th>lat</th>\n",
       "      <th>lon</th>\n",
       "      <th></th>\n",
       "      <th></th>\n",
       "    </tr>\n",
       "  </thead>\n",
       "  <tbody>\n",
       "    <tr>\n",
       "      <th rowspan=\"5\" valign=\"top\">1940-01-16 12:00:00</th>\n",
       "      <th rowspan=\"5\" valign=\"top\">-88.927735</th>\n",
       "      <th>0.00000</th>\n",
       "      <td>2.0</td>\n",
       "      <td>243.316696</td>\n",
       "    </tr>\n",
       "    <tr>\n",
       "      <th>1.40625</th>\n",
       "      <td>2.0</td>\n",
       "      <td>243.316696</td>\n",
       "    </tr>\n",
       "    <tr>\n",
       "      <th>2.81250</th>\n",
       "      <td>2.0</td>\n",
       "      <td>243.316696</td>\n",
       "    </tr>\n",
       "    <tr>\n",
       "      <th>4.21875</th>\n",
       "      <td>2.0</td>\n",
       "      <td>243.316696</td>\n",
       "    </tr>\n",
       "    <tr>\n",
       "      <th>5.62500</th>\n",
       "      <td>2.0</td>\n",
       "      <td>243.316696</td>\n",
       "    </tr>\n",
       "    <tr>\n",
       "      <th>...</th>\n",
       "      <th>...</th>\n",
       "      <th>...</th>\n",
       "      <td>...</td>\n",
       "      <td>...</td>\n",
       "    </tr>\n",
       "    <tr>\n",
       "      <th rowspan=\"5\" valign=\"top\">1940-02-15 12:00:00</th>\n",
       "      <th rowspan=\"5\" valign=\"top\">88.927735</th>\n",
       "      <th>352.96875</th>\n",
       "      <td>2.0</td>\n",
       "      <td>236.381638</td>\n",
       "    </tr>\n",
       "    <tr>\n",
       "      <th>354.37500</th>\n",
       "      <td>2.0</td>\n",
       "      <td>236.381638</td>\n",
       "    </tr>\n",
       "    <tr>\n",
       "      <th>355.78125</th>\n",
       "      <td>2.0</td>\n",
       "      <td>236.381638</td>\n",
       "    </tr>\n",
       "    <tr>\n",
       "      <th>357.18750</th>\n",
       "      <td>2.0</td>\n",
       "      <td>236.381638</td>\n",
       "    </tr>\n",
       "    <tr>\n",
       "      <th>358.59375</th>\n",
       "      <td>2.0</td>\n",
       "      <td>236.381638</td>\n",
       "    </tr>\n",
       "  </tbody>\n",
       "</table>\n",
       "<p>65536 rows × 2 columns</p>\n",
       "</div>"
      ],
      "text/plain": [
       "                                          height         tas\n",
       "time                lat        lon                          \n",
       "1940-01-16 12:00:00 -88.927735 0.00000       2.0  243.316696\n",
       "                               1.40625       2.0  243.316696\n",
       "                               2.81250       2.0  243.316696\n",
       "                               4.21875       2.0  243.316696\n",
       "                               5.62500       2.0  243.316696\n",
       "...                                          ...         ...\n",
       "1940-02-15 12:00:00  88.927735 352.96875     2.0  236.381638\n",
       "                               354.37500     2.0  236.381638\n",
       "                               355.78125     2.0  236.381638\n",
       "                               357.18750     2.0  236.381638\n",
       "                               358.59375     2.0  236.381638\n",
       "\n",
       "[65536 rows x 2 columns]"
      ]
     },
     "execution_count": 14,
     "metadata": {},
     "output_type": "execute_result"
    }
   ],
   "source": [
    "df_tas = df.query(\"variable_id == 'tas' & source_id == 'CNRM-ESM2-1' & member_id == 'r1i1p1f2' & experiment_id == 'historical' & table_id == 'Amon'\")\n",
    "\n",
    "tas_store_present = df_tas.zstore.values[0]\n",
    "mapper = fsspec.get_mapper(tas_store_present)\n",
    "tas_present = xr.open_zarr(mapper, consolidated=True)\n",
    "\n",
    "tas_combined = tas_present.tas.sel(time=slice('1940-01-16T12:00:00' , '1940-2-16T12:00:00'))\n",
    "\n",
    "tas_df = tas_combined.to_dataframe()\n",
    "tas_df\n"
   ]
  },
  {
   "cell_type": "code",
   "execution_count": 15,
   "metadata": {},
   "outputs": [
    {
     "data": {
      "text/plain": [
       "'gs://cmip6/CMIP6/CMIP/CNRM-CERFACS/CNRM-ESM2-1/historical/r1i1p1f2/Amon/pr/gr/v20181206/'"
      ]
     },
     "execution_count": 15,
     "metadata": {},
     "output_type": "execute_result"
    }
   ],
   "source": [
    "pr_store_present"
   ]
  },
  {
   "cell_type": "code",
   "execution_count": 16,
   "metadata": {},
   "outputs": [
    {
     "data": {
      "text/plain": [
       "'gs://cmip6/CMIP6/CMIP/CNRM-CERFACS/CNRM-ESM2-1/historical/r1i1p1f2/Amon/sfcWind/gr/v20181206/'"
      ]
     },
     "execution_count": 16,
     "metadata": {},
     "output_type": "execute_result"
    }
   ],
   "source": [
    "sfcWind_store_present"
   ]
  },
  {
   "cell_type": "code",
   "execution_count": 17,
   "metadata": {},
   "outputs": [
    {
     "data": {
      "text/plain": [
       "'gs://cmip6/CMIP6/CMIP/CNRM-CERFACS/CNRM-ESM2-1/historical/r1i1p1f2/Amon/hur/gr/v20181206/'"
      ]
     },
     "execution_count": 17,
     "metadata": {},
     "output_type": "execute_result"
    }
   ],
   "source": [
    "hur_store_present"
   ]
  },
  {
   "cell_type": "code",
   "execution_count": 18,
   "metadata": {},
   "outputs": [
    {
     "data": {
      "text/plain": [
       "'gs://cmip6/CMIP6/CMIP/CNRM-CERFACS/CNRM-ESM2-1/historical/r1i1p1f2/Amon/tas/gr/v20181206/'"
      ]
     },
     "execution_count": 18,
     "metadata": {},
     "output_type": "execute_result"
    }
   ],
   "source": [
    "tas_store_present"
   ]
  },
  {
   "cell_type": "code",
   "execution_count": 112,
   "metadata": {},
   "outputs": [
    {
     "data": {
      "text/html": [
       "<div>\n",
       "<style scoped>\n",
       "    .dataframe tbody tr th:only-of-type {\n",
       "        vertical-align: middle;\n",
       "    }\n",
       "\n",
       "    .dataframe tbody tr th {\n",
       "        vertical-align: top;\n",
       "    }\n",
       "\n",
       "    .dataframe thead th {\n",
       "        text-align: right;\n",
       "    }\n",
       "</style>\n",
       "<table border=\"1\" class=\"dataframe\">\n",
       "  <thead>\n",
       "    <tr style=\"text-align: right;\">\n",
       "      <th></th>\n",
       "      <th></th>\n",
       "      <th></th>\n",
       "      <th>height</th>\n",
       "      <th>tas</th>\n",
       "      <th>sfcWind</th>\n",
       "      <th>hurs</th>\n",
       "      <th>pr</th>\n",
       "      <th>burntFractionAll</th>\n",
       "    </tr>\n",
       "    <tr>\n",
       "      <th>time</th>\n",
       "      <th>lat</th>\n",
       "      <th>lon</th>\n",
       "      <th></th>\n",
       "      <th></th>\n",
       "      <th></th>\n",
       "      <th></th>\n",
       "      <th></th>\n",
       "      <th></th>\n",
       "    </tr>\n",
       "  </thead>\n",
       "  <tbody>\n",
       "    <tr>\n",
       "      <th rowspan=\"5\" valign=\"top\">1940-01-16 12:00:00</th>\n",
       "      <th rowspan=\"5\" valign=\"top\">-88.927735</th>\n",
       "      <th>0.00000</th>\n",
       "      <td>2.0</td>\n",
       "      <td>243.316696</td>\n",
       "      <td>2.963656</td>\n",
       "      <td>94.292168</td>\n",
       "      <td>4.780071e-07</td>\n",
       "      <td>0.0</td>\n",
       "    </tr>\n",
       "    <tr>\n",
       "      <th>1.40625</th>\n",
       "      <td>2.0</td>\n",
       "      <td>243.316696</td>\n",
       "      <td>2.963656</td>\n",
       "      <td>94.292168</td>\n",
       "      <td>4.780071e-07</td>\n",
       "      <td>0.0</td>\n",
       "    </tr>\n",
       "    <tr>\n",
       "      <th>2.81250</th>\n",
       "      <td>2.0</td>\n",
       "      <td>243.316696</td>\n",
       "      <td>2.963656</td>\n",
       "      <td>94.292168</td>\n",
       "      <td>4.780071e-07</td>\n",
       "      <td>0.0</td>\n",
       "    </tr>\n",
       "    <tr>\n",
       "      <th>4.21875</th>\n",
       "      <td>2.0</td>\n",
       "      <td>243.316696</td>\n",
       "      <td>2.963656</td>\n",
       "      <td>94.292168</td>\n",
       "      <td>4.780071e-07</td>\n",
       "      <td>0.0</td>\n",
       "    </tr>\n",
       "    <tr>\n",
       "      <th>5.62500</th>\n",
       "      <td>2.0</td>\n",
       "      <td>243.316696</td>\n",
       "      <td>2.963656</td>\n",
       "      <td>94.292168</td>\n",
       "      <td>4.780071e-07</td>\n",
       "      <td>0.0</td>\n",
       "    </tr>\n",
       "    <tr>\n",
       "      <th>...</th>\n",
       "      <th>...</th>\n",
       "      <th>...</th>\n",
       "      <td>...</td>\n",
       "      <td>...</td>\n",
       "      <td>...</td>\n",
       "      <td>...</td>\n",
       "      <td>...</td>\n",
       "      <td>...</td>\n",
       "    </tr>\n",
       "    <tr>\n",
       "      <th rowspan=\"5\" valign=\"top\">1940-02-15 12:00:00</th>\n",
       "      <th rowspan=\"5\" valign=\"top\">83.342596</th>\n",
       "      <th>337.50000</th>\n",
       "      <td>2.0</td>\n",
       "      <td>235.123871</td>\n",
       "      <td>4.151989</td>\n",
       "      <td>63.164009</td>\n",
       "      <td>2.961700e-06</td>\n",
       "      <td>0.0</td>\n",
       "    </tr>\n",
       "    <tr>\n",
       "      <th>338.90625</th>\n",
       "      <td>2.0</td>\n",
       "      <td>235.123871</td>\n",
       "      <td>4.151989</td>\n",
       "      <td>63.164009</td>\n",
       "      <td>2.961700e-06</td>\n",
       "      <td>0.0</td>\n",
       "    </tr>\n",
       "    <tr>\n",
       "      <th>340.31250</th>\n",
       "      <td>2.0</td>\n",
       "      <td>235.123871</td>\n",
       "      <td>4.151989</td>\n",
       "      <td>63.164009</td>\n",
       "      <td>2.961700e-06</td>\n",
       "      <td>0.0</td>\n",
       "    </tr>\n",
       "    <tr>\n",
       "      <th>341.71875</th>\n",
       "      <td>2.0</td>\n",
       "      <td>235.123871</td>\n",
       "      <td>4.151989</td>\n",
       "      <td>63.164009</td>\n",
       "      <td>2.961700e-06</td>\n",
       "      <td>0.0</td>\n",
       "    </tr>\n",
       "    <tr>\n",
       "      <th>343.12500</th>\n",
       "      <td>2.0</td>\n",
       "      <td>235.524231</td>\n",
       "      <td>4.597274</td>\n",
       "      <td>69.317482</td>\n",
       "      <td>2.770869e-06</td>\n",
       "      <td>0.0</td>\n",
       "    </tr>\n",
       "  </tbody>\n",
       "</table>\n",
       "<p>27278 rows × 6 columns</p>\n",
       "</div>"
      ],
      "text/plain": [
       "                                          height         tas   sfcWind  \\\n",
       "time                lat        lon                                       \n",
       "1940-01-16 12:00:00 -88.927735 0.00000       2.0  243.316696  2.963656   \n",
       "                               1.40625       2.0  243.316696  2.963656   \n",
       "                               2.81250       2.0  243.316696  2.963656   \n",
       "                               4.21875       2.0  243.316696  2.963656   \n",
       "                               5.62500       2.0  243.316696  2.963656   \n",
       "...                                          ...         ...       ...   \n",
       "1940-02-15 12:00:00  83.342596 337.50000     2.0  235.123871  4.151989   \n",
       "                               338.90625     2.0  235.123871  4.151989   \n",
       "                               340.31250     2.0  235.123871  4.151989   \n",
       "                               341.71875     2.0  235.123871  4.151989   \n",
       "                               343.12500     2.0  235.524231  4.597274   \n",
       "\n",
       "                                               hurs            pr  \\\n",
       "time                lat        lon                                  \n",
       "1940-01-16 12:00:00 -88.927735 0.00000    94.292168  4.780071e-07   \n",
       "                               1.40625    94.292168  4.780071e-07   \n",
       "                               2.81250    94.292168  4.780071e-07   \n",
       "                               4.21875    94.292168  4.780071e-07   \n",
       "                               5.62500    94.292168  4.780071e-07   \n",
       "...                                             ...           ...   \n",
       "1940-02-15 12:00:00  83.342596 337.50000  63.164009  2.961700e-06   \n",
       "                               338.90625  63.164009  2.961700e-06   \n",
       "                               340.31250  63.164009  2.961700e-06   \n",
       "                               341.71875  63.164009  2.961700e-06   \n",
       "                               343.12500  69.317482  2.770869e-06   \n",
       "\n",
       "                                          burntFractionAll  \n",
       "time                lat        lon                          \n",
       "1940-01-16 12:00:00 -88.927735 0.00000                 0.0  \n",
       "                               1.40625                 0.0  \n",
       "                               2.81250                 0.0  \n",
       "                               4.21875                 0.0  \n",
       "                               5.62500                 0.0  \n",
       "...                                                    ...  \n",
       "1940-02-15 12:00:00  83.342596 337.50000               0.0  \n",
       "                               338.90625               0.0  \n",
       "                               340.31250               0.0  \n",
       "                               341.71875               0.0  \n",
       "                               343.12500               0.0  \n",
       "\n",
       "[27278 rows x 6 columns]"
      ]
     },
     "execution_count": 112,
     "metadata": {},
     "output_type": "execute_result"
    }
   ],
   "source": [
    "frames = [tas_df, sfcWind_df, hurs_df, pr_df, bfa_df]\n",
    "\n",
    "result = pd.concat(frames, axis=1)\n",
    "result = result.dropna() \n",
    "result"
   ]
  },
  {
   "cell_type": "code",
   "execution_count": 113,
   "metadata": {},
   "outputs": [
    {
     "data": {
      "text/plain": [
       "'\\nclf = tree.DecisionTreeClassifier()\\nclf = clf.fit(X_train, y_train)\\npredictions = clf.predict(X_test)\\nconf_matrix = confusion_matrix(y_test, predictions)\\n\\nprint(\"precision\", precision_score(y_test, predictions))\\nprint(\"accuracy\", accuracy_score(y_test, predictions))\\nprint(\"recall\", recall_score(y_test, predictions))\\n\\n# Extract values from the confusion matrix\\ntn, fp, fn, tp = conf_matrix.ravel()\\nprint(\"tn:\", tn)\\nprint(\"tp:\", tp)\\nprint(\"fn:\", fn)\\nprint(\"fp:\", fp)\\n\\nprint(predictions)\\n'"
      ]
     },
     "execution_count": 113,
     "metadata": {},
     "output_type": "execute_result"
    }
   ],
   "source": [
    "X = result.iloc[:, :-1] \n",
    "y = result.iloc[:, -1] \n",
    "\n",
    "X_train, X_test, y_train, y_test = train_test_split(X, y, test_size=0.3, random_state=42)\n",
    "\n",
    "from sklearn import tree\n",
    "from sklearn.metrics import accuracy_score\n",
    "from sklearn.metrics import confusion_matrix\n",
    "from sklearn.metrics import precision_score\n",
    "from sklearn.metrics import recall_score\n",
    "'''\n",
    "clf = tree.DecisionTreeClassifier()\n",
    "clf = clf.fit(X_train, y_train)\n",
    "predictions = clf.predict(X_test)\n",
    "conf_matrix = confusion_matrix(y_test, predictions)\n",
    "\n",
    "print(\"precision\", precision_score(y_test, predictions))\n",
    "print(\"accuracy\", accuracy_score(y_test, predictions))\n",
    "print(\"recall\", recall_score(y_test, predictions))\n",
    "\n",
    "# Extract values from the confusion matrix\n",
    "tn, fp, fn, tp = conf_matrix.ravel()\n",
    "print(\"tn:\", tn)\n",
    "print(\"tp:\", tp)\n",
    "print(\"fn:\", fn)\n",
    "print(\"fp:\", fp)\n",
    "\n",
    "print(predictions)\n",
    "'''"
   ]
  },
  {
   "cell_type": "code",
   "execution_count": 114,
   "metadata": {},
   "outputs": [
    {
     "name": "stdout",
     "output_type": "stream",
     "text": [
      "0.0017426428637326071\n",
      "[0.00000000e+00 2.00719110e-12 1.62090585e-11 ... 5.58807254e-01\n",
      " 5.75998485e-01 7.54694998e-01]\n"
     ]
    }
   ],
   "source": [
    "\n",
    "from sklearn.metrics import mean_squared_error\n",
    "clf = tree.DecisionTreeRegressor()\n",
    "clf = clf.fit(X_train, y_train)\n",
    "predictions = clf.predict(X_test)\n",
    "mse = mean_squared_error(y_test, predictions)\n",
    "print(mse)\n",
    "print(np.unique(predictions))"
   ]
  },
  {
   "cell_type": "code",
   "execution_count": null,
   "metadata": {},
   "outputs": [],
   "source": []
  }
 ],
 "metadata": {
  "anaconda-cloud": {},
  "application/vnd.databricks.v1+notebook": {
   "dashboards": [],
   "language": "python",
   "notebookMetadata": {
    "pythonIndentUnit": 4
   },
   "notebookName": "Project",
   "widgets": {}
  },
  "colab": {
   "collapsed_sections": [
    "EWjKgKQjTNCE",
    "Y27ND4r4uR6t"
   ],
   "name": "Week10_ATMO449-CMIP_temperature_analysis.ipynb",
   "provenance": [
    {
     "file_id": "1paIHyyvWA3ms_ni_jFHX3uP4jg6BwjjR",
     "timestamp": 1592419759264
    }
   ]
  },
  "kernelspec": {
   "display_name": "Python 3 (ipykernel)",
   "language": "python",
   "name": "python3"
  },
  "language_info": {
   "codemirror_mode": {
    "name": "ipython",
    "version": 3
   },
   "file_extension": ".py",
   "mimetype": "text/x-python",
   "name": "python",
   "nbconvert_exporter": "python",
   "pygments_lexer": "ipython3",
   "version": "3.11.4"
  }
 },
 "nbformat": 4,
 "nbformat_minor": 4
}
