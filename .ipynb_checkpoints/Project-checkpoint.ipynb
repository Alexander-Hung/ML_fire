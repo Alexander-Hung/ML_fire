{
 "cells": [
  {
   "cell_type": "markdown",
   "metadata": {},
   "source": [
    "# Machine Learning for Assessing Brush Fire Risk in The United States"
   ]
  },
  {
   "cell_type": "markdown",
   "metadata": {
    "tags": []
   },
   "source": [
    "## Import required packages"
   ]
  },
  {
   "cell_type": "code",
   "execution_count": 1,
   "metadata": {
    "scrolled": false
   },
   "outputs": [
    {
     "name": "stdout",
     "output_type": "stream",
     "text": [
      "Requirement already satisfied: geopandas in h:\\software\\anaconda3\\lib\\site-packages (0.14.0)\n",
      "Requirement already satisfied: shapely in h:\\software\\anaconda3\\lib\\site-packages (2.0.2)\n",
      "Requirement already satisfied: fiona>=1.8.21 in h:\\software\\anaconda3\\lib\\site-packages (from geopandas) (1.9.5)\n",
      "Requirement already satisfied: packaging in h:\\software\\anaconda3\\lib\\site-packages (from geopandas) (23.0)\n",
      "Requirement already satisfied: pandas>=1.4.0 in h:\\software\\anaconda3\\lib\\site-packages (from geopandas) (1.5.3)\n",
      "Requirement already satisfied: pyproj>=3.3.0 in h:\\software\\anaconda3\\lib\\site-packages (from geopandas) (3.6.1)\n",
      "Requirement already satisfied: numpy>=1.14 in h:\\software\\anaconda3\\lib\\site-packages (from shapely) (1.24.3)\n",
      "Requirement already satisfied: attrs>=19.2.0 in h:\\software\\anaconda3\\lib\\site-packages (from fiona>=1.8.21->geopandas) (22.1.0)\n",
      "Requirement already satisfied: certifi in h:\\software\\anaconda3\\lib\\site-packages (from fiona>=1.8.21->geopandas) (2023.7.22)\n",
      "Requirement already satisfied: click~=8.0 in h:\\software\\anaconda3\\lib\\site-packages (from fiona>=1.8.21->geopandas) (8.0.4)\n",
      "Requirement already satisfied: click-plugins>=1.0 in h:\\software\\anaconda3\\lib\\site-packages (from fiona>=1.8.21->geopandas) (1.1.1)\n",
      "Requirement already satisfied: cligj>=0.5 in h:\\software\\anaconda3\\lib\\site-packages (from fiona>=1.8.21->geopandas) (0.7.2)\n",
      "Requirement already satisfied: six in h:\\software\\anaconda3\\lib\\site-packages (from fiona>=1.8.21->geopandas) (1.16.0)\n",
      "Requirement already satisfied: setuptools in h:\\software\\anaconda3\\lib\\site-packages (from fiona>=1.8.21->geopandas) (68.0.0)\n",
      "Requirement already satisfied: python-dateutil>=2.8.1 in h:\\software\\anaconda3\\lib\\site-packages (from pandas>=1.4.0->geopandas) (2.8.2)\n",
      "Requirement already satisfied: pytz>=2020.1 in h:\\software\\anaconda3\\lib\\site-packages (from pandas>=1.4.0->geopandas) (2022.7)\n",
      "Requirement already satisfied: colorama in h:\\software\\anaconda3\\lib\\site-packages (from click~=8.0->fiona>=1.8.21->geopandas) (0.4.6)\n"
     ]
    }
   ],
   "source": [
    "!pip install geopandas shapely"
   ]
  },
  {
   "cell_type": "code",
   "execution_count": 2,
   "metadata": {
    "id": "PDXJ1VV5K5ay"
   },
   "outputs": [],
   "source": [
    "#Importing required packages\n",
    "from matplotlib import pyplot as plt\n",
    "import numpy as np\n",
    "import pandas as pd\n",
    "import os\n",
    "import re\n",
    "import csv\n",
    "import xarray as xr\n",
    "import zarr\n",
    "import fsspec\n",
    "import cartopy.crs as ccrs\n",
    "import glob as glob\n",
    "import netCDF4 as nc\n",
    "from netCDF4 import Dataset\n",
    "from scipy.stats import skew,stats\n",
    "import bottleneck\n",
    "import gcsfs\n",
    "import matplotlib.ticker as mticker\n",
    "import warnings\n",
    "warnings.filterwarnings(\"ignore\") \n",
    "\n",
    "import geopandas as gpd\n",
    "from shapely.geometry import Point\n",
    "import fiona\n",
    "\n",
    "from sklearn.model_selection import train_test_split\n",
    "from sklearn.ensemble import RandomForestRegressor\n",
    "from sklearn.metrics import mean_absolute_error"
   ]
  },
  {
   "cell_type": "markdown",
   "metadata": {
    "tags": []
   },
   "source": [
    "## Loading data"
   ]
  },
  {
   "cell_type": "code",
   "execution_count": 3,
   "metadata": {},
   "outputs": [],
   "source": [
    "# Directory containing the CSV files\n",
    "directory = './'\n",
    "\n",
    "# Create a dictionary to hold the dataframes. The keys will be years.\n",
    "modis_data = {}\n",
    "all_dataframes = []\n",
    "\n",
    "# Iterate over all files in the directory\n",
    "for filename in os.listdir(directory):\n",
    "    # Use a regex to match the pattern \"modis\" followed by a year and ending with \"United_States.csv\"\n",
    "    match = re.match(r'modis_(\\d{4})_United_States.csv', filename)\n",
    "    if match:\n",
    "        # Extract the year from the matched filename\n",
    "        year = match.group(1)\n",
    "        # Load the CSV file into a dataframe\n",
    "        df = pd.read_csv(os.path.join(directory, filename))\n",
    "        # Store the dataframe in the dictionary with the year as the key\n",
    "        modis_data[year] = df\n",
    "        all_dataframes.append(df)\n",
    "        \n",
    "all_in_one_data = pd.concat(all_dataframes, ignore_index=True)"
   ]
  },
  {
   "cell_type": "code",
   "execution_count": 4,
   "metadata": {
    "tags": []
   },
   "outputs": [],
   "source": [
    "modis_2012 = modis_data['2012']\n",
    "modis_2013 = modis_data['2013']\n",
    "modis_2014 = modis_data['2014']\n",
    "modis_2015 = modis_data['2015']\n",
    "modis_2016 = modis_data['2016']\n",
    "modis_2017 = modis_data['2017']\n",
    "modis_2018 = modis_data['2018']\n",
    "modis_2019 = modis_data['2019']\n",
    "modis_2020 = modis_data['2020']\n",
    "modis_2021 = modis_data['2021']\n",
    "modis_2022 = modis_data['2022']\n",
    "test_df = modis_data['2022']"
   ]
  },
  {
   "cell_type": "code",
   "execution_count": 5,
   "metadata": {
    "scrolled": false
   },
   "outputs": [
    {
     "name": "stdout",
     "output_type": "stream",
     "text": [
      "latitude         33.0156\n",
      "longitude       -97.0675\n",
      "brightness         325.4\n",
      "scan                 1.1\n",
      "track                1.1\n",
      "acq_date      2012-01-01\n",
      "acq_time             426\n",
      "satellite          Terra\n",
      "instrument         MODIS\n",
      "confidence           100\n",
      "version              6.2\n",
      "bright_t31         285.5\n",
      "frp                 30.5\n",
      "daynight               N\n",
      "type                   0\n",
      "Name: 0, dtype: object\n",
      "<class 'pandas.core.frame.DataFrame'>\n"
     ]
    },
    {
     "data": {
      "text/html": [
       "<div>\n",
       "<style scoped>\n",
       "    .dataframe tbody tr th:only-of-type {\n",
       "        vertical-align: middle;\n",
       "    }\n",
       "\n",
       "    .dataframe tbody tr th {\n",
       "        vertical-align: top;\n",
       "    }\n",
       "\n",
       "    .dataframe thead th {\n",
       "        text-align: right;\n",
       "    }\n",
       "</style>\n",
       "<table border=\"1\" class=\"dataframe\">\n",
       "  <thead>\n",
       "    <tr style=\"text-align: right;\">\n",
       "      <th></th>\n",
       "      <th>latitude</th>\n",
       "      <th>longitude</th>\n",
       "      <th>brightness</th>\n",
       "      <th>scan</th>\n",
       "      <th>track</th>\n",
       "      <th>acq_date</th>\n",
       "      <th>acq_time</th>\n",
       "      <th>satellite</th>\n",
       "      <th>instrument</th>\n",
       "      <th>confidence</th>\n",
       "      <th>version</th>\n",
       "      <th>bright_t31</th>\n",
       "      <th>frp</th>\n",
       "      <th>daynight</th>\n",
       "      <th>type</th>\n",
       "    </tr>\n",
       "  </thead>\n",
       "  <tbody>\n",
       "    <tr>\n",
       "      <th>0</th>\n",
       "      <td>33.0156</td>\n",
       "      <td>-97.0675</td>\n",
       "      <td>325.4</td>\n",
       "      <td>1.1</td>\n",
       "      <td>1.1</td>\n",
       "      <td>2012-01-01</td>\n",
       "      <td>426</td>\n",
       "      <td>Terra</td>\n",
       "      <td>MODIS</td>\n",
       "      <td>100</td>\n",
       "      <td>6.2</td>\n",
       "      <td>285.5</td>\n",
       "      <td>30.5</td>\n",
       "      <td>N</td>\n",
       "      <td>0</td>\n",
       "    </tr>\n",
       "    <tr>\n",
       "      <th>1</th>\n",
       "      <td>36.3413</td>\n",
       "      <td>-96.5210</td>\n",
       "      <td>313.3</td>\n",
       "      <td>1.0</td>\n",
       "      <td>1.0</td>\n",
       "      <td>2012-01-01</td>\n",
       "      <td>427</td>\n",
       "      <td>Terra</td>\n",
       "      <td>MODIS</td>\n",
       "      <td>87</td>\n",
       "      <td>6.2</td>\n",
       "      <td>279.3</td>\n",
       "      <td>15.9</td>\n",
       "      <td>N</td>\n",
       "      <td>0</td>\n",
       "    </tr>\n",
       "    <tr>\n",
       "      <th>2</th>\n",
       "      <td>36.3396</td>\n",
       "      <td>-96.5321</td>\n",
       "      <td>320.3</td>\n",
       "      <td>1.0</td>\n",
       "      <td>1.0</td>\n",
       "      <td>2012-01-01</td>\n",
       "      <td>427</td>\n",
       "      <td>Terra</td>\n",
       "      <td>MODIS</td>\n",
       "      <td>100</td>\n",
       "      <td>6.2</td>\n",
       "      <td>279.1</td>\n",
       "      <td>21.8</td>\n",
       "      <td>N</td>\n",
       "      <td>0</td>\n",
       "    </tr>\n",
       "    <tr>\n",
       "      <th>3</th>\n",
       "      <td>36.3306</td>\n",
       "      <td>-96.5300</td>\n",
       "      <td>326.9</td>\n",
       "      <td>1.0</td>\n",
       "      <td>1.0</td>\n",
       "      <td>2012-01-01</td>\n",
       "      <td>427</td>\n",
       "      <td>Terra</td>\n",
       "      <td>MODIS</td>\n",
       "      <td>100</td>\n",
       "      <td>6.2</td>\n",
       "      <td>280.2</td>\n",
       "      <td>28.8</td>\n",
       "      <td>N</td>\n",
       "      <td>0</td>\n",
       "    </tr>\n",
       "    <tr>\n",
       "      <th>4</th>\n",
       "      <td>36.1220</td>\n",
       "      <td>-96.0743</td>\n",
       "      <td>302.7</td>\n",
       "      <td>1.0</td>\n",
       "      <td>1.0</td>\n",
       "      <td>2012-01-01</td>\n",
       "      <td>427</td>\n",
       "      <td>Terra</td>\n",
       "      <td>MODIS</td>\n",
       "      <td>51</td>\n",
       "      <td>6.2</td>\n",
       "      <td>279.4</td>\n",
       "      <td>9.0</td>\n",
       "      <td>N</td>\n",
       "      <td>0</td>\n",
       "    </tr>\n",
       "  </tbody>\n",
       "</table>\n",
       "</div>"
      ],
      "text/plain": [
       "   latitude  longitude  brightness  scan  track    acq_date  acq_time  \\\n",
       "0   33.0156   -97.0675       325.4   1.1    1.1  2012-01-01       426   \n",
       "1   36.3413   -96.5210       313.3   1.0    1.0  2012-01-01       427   \n",
       "2   36.3396   -96.5321       320.3   1.0    1.0  2012-01-01       427   \n",
       "3   36.3306   -96.5300       326.9   1.0    1.0  2012-01-01       427   \n",
       "4   36.1220   -96.0743       302.7   1.0    1.0  2012-01-01       427   \n",
       "\n",
       "  satellite instrument  confidence  version  bright_t31   frp daynight  type  \n",
       "0     Terra      MODIS         100      6.2       285.5  30.5        N     0  \n",
       "1     Terra      MODIS          87      6.2       279.3  15.9        N     0  \n",
       "2     Terra      MODIS         100      6.2       279.1  21.8        N     0  \n",
       "3     Terra      MODIS         100      6.2       280.2  28.8        N     0  \n",
       "4     Terra      MODIS          51      6.2       279.4   9.0        N     0  "
      ]
     },
     "execution_count": 5,
     "metadata": {},
     "output_type": "execute_result"
    }
   ],
   "source": [
    "print(all_in_one_data.iloc[0])\n",
    "print(type(all_in_one_data))\n",
    "all_in_one_data.head()"
   ]
  },
  {
   "cell_type": "code",
   "execution_count": null,
   "metadata": {
    "scrolled": false
   },
   "outputs": [],
   "source": [
    "# Create a GeoDataFrame from the latitude and longitude data\n",
    "# Note: 'latitude' and 'longitude' will be the column names in your CSV that contain the geographical coordinates\n",
    "gdf = gpd.GeoDataFrame(\n",
    "    all_in_one_data,\n",
    "    geometry=gpd.points_from_xy(all_in_one_data.longitude, all_in_one_data.latitude)\n",
    ")\n",
    "\n",
    "# Load the US state boundaries GeoJSON file\n",
    "us_states = gpd.read_file('./US_State_Boundaries.geojson')\n",
    "\n",
    "# Perform the spatial join between the points and the states\n",
    "# This operation returns a GeoDataFrame with all the columns from the dataframe plus the attributes from the GeoJSON\n",
    "gdf = gdf.set_crs(us_states.crs)  # Make sure both GeoDataFrames use the same coordinate reference system\n",
    "gdf_with_states = gpd.sjoin(gdf, us_states, how=\"left\", op='intersects')\n",
    "\n",
    "# Now gdf_with_states will have a column with the state names associated with each point\n",
    "# You might need to inspect the us_states GeoDataFrame to find out the name of the column that contains state names\n",
    "# Let's assume the column is named 'STATE_NAME'\n",
    "all_in_one_data['state_name'] = gdf_with_states['NAME']"
   ]
  },
  {
   "cell_type": "code",
   "execution_count": null,
   "metadata": {},
   "outputs": [],
   "source": [
    "all_in_one_data.to_csv('all_in_one_data_withStatesName.csv', index=False)"
   ]
  },
  {
   "cell_type": "markdown",
   "metadata": {},
   "source": [
    "## Model"
   ]
  },
  {
   "cell_type": "code",
   "execution_count": null,
   "metadata": {},
   "outputs": [],
   "source": [
    "#Loading CMIP6 data stored on google cloud\n",
    "df = pd.read_csv('https://storage.googleapis.com/cmip6/cmip6-zarr-consolidated-stores.csv')\n",
    "\n",
    "#subselect for surface temparature and the two experiments:\n",
    "df_pr = df.query(\"activity_id=='HighResMIP' & (variable_id == 'pr' ) & (experiment_id == 'highresSST-present'|experiment_id == 'highresSST-future') & source_id=='MRI-AGCM3-2-S' & table_id == 'Amon'\")\n",
    "df_pr"
   ]
  },
  {
   "cell_type": "code",
   "execution_count": null,
   "metadata": {},
   "outputs": [],
   "source": []
  }
 ],
 "metadata": {
  "anaconda-cloud": {},
  "colab": {
   "collapsed_sections": [
    "EWjKgKQjTNCE",
    "Y27ND4r4uR6t"
   ],
   "name": "Week10_ATMO449-CMIP_temperature_analysis.ipynb",
   "provenance": [
    {
     "file_id": "1paIHyyvWA3ms_ni_jFHX3uP4jg6BwjjR",
     "timestamp": 1592419759264
    }
   ]
  },
  "kernelspec": {
   "display_name": "Python 3 (ipykernel)",
   "language": "python",
   "name": "python3"
  },
  "language_info": {
   "codemirror_mode": {
    "name": "ipython",
    "version": 3
   },
   "file_extension": ".py",
   "mimetype": "text/x-python",
   "name": "python",
   "nbconvert_exporter": "python",
   "pygments_lexer": "ipython3",
   "version": "3.11.4"
  }
 },
 "nbformat": 4,
 "nbformat_minor": 4
}
